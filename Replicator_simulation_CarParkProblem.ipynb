{
 "cells": [
  {
   "cell_type": "markdown",
   "metadata": {},
   "source": [
    "# Carpark Problem Replicator Simulation"
   ]
  },
  {
   "cell_type": "code",
   "execution_count": 1,
   "metadata": {},
   "outputs": [],
   "source": [
    "%matplotlib inline"
   ]
  },
  {
   "cell_type": "code",
   "execution_count": 2,
   "metadata": {},
   "outputs": [],
   "source": [
    "import numpy as np"
   ]
  },
  {
   "cell_type": "code",
   "execution_count": 3,
   "metadata": {},
   "outputs": [],
   "source": [
    "import matplotlib.pyplot as plt"
   ]
  },
  {
   "cell_type": "code",
   "execution_count": 4,
   "metadata": {},
   "outputs": [],
   "source": [
    "import time"
   ]
  },
  {
   "cell_type": "code",
   "execution_count": 5,
   "metadata": {},
   "outputs": [],
   "source": [
    "popSize=1000"
   ]
  },
  {
   "cell_type": "markdown",
   "metadata": {},
   "source": [
    "In this scenario, we are working under the assumption that the total population size is 1000. However, this population is divided into 5 groups, resulting in 200 individuals arriving simultaneously!"
   ]
  },
  {
   "cell_type": "code",
   "execution_count": 6,
   "metadata": {},
   "outputs": [],
   "source": [
    "n = 5\n",
    "d1 = 20\n",
    "d2 = 2\n",
    "beta1 = 1\n",
    "beta2 = 5"
   ]
  },
  {
   "cell_type": "code",
   "execution_count": 7,
   "metadata": {},
   "outputs": [],
   "source": [
    "def payoffGame(G):\n",
    "    num_at_A = sum(G)\n",
    "    num_at_B = n - sum(G)\n",
    "    payoffs = np.where(G==1,1/(d1+ beta1* num_at_A),1/(d2+ beta2* num_at_B))\n",
    "    return (payoffs)"
   ]
  },
  {
   "cell_type": "code",
   "execution_count": 8,
   "metadata": {},
   "outputs": [],
   "source": [
    "def oneRound():\n",
    "    global population\n",
    "    np.random.shuffle(population)\n",
    "    allGames = np.split(population,popSize/n)\n",
    "    allPayoff = np.array(list(map(payoffGame, allGames)))\n",
    "    allPayoffs = allPayoff.flatten()\n",
    "    indexes = np.random.choice(np.arange(0,popSize),popSize,replace=True,p=allPayoffs/np.sum(allPayoffs))\n",
    "    parents = np.array([population[i] for i in indexes])\n",
    "    X = parents\n",
    "    population = X"
   ]
  },
  {
   "cell_type": "code",
   "execution_count": 9,
   "metadata": {},
   "outputs": [],
   "source": [
    "def play(tEnd, plotInterval):\n",
    "    global popSize\n",
    "    global population\n",
    "    global allPopulations\n",
    "    global X\n",
    "\n",
    "    init_population = []\n",
    "    for i in range(int(popSize/2)):\n",
    "        init_population=init_population+[[0]]\n",
    "        \n",
    "    for i in range(int(popSize/2),popSize):\n",
    "        init_population=init_population+[[1]]\n",
    "        \n",
    "    population = np.array(init_population) \n",
    "    \n",
    "    allPopulations=[population]\n",
    "    for t in range(1,tEnd):\n",
    "        if (t%plotInterval == 0):\n",
    "            allPopulations.append(population)\n",
    "        oneRound()"
   ]
  },
  {
   "cell_type": "code",
   "execution_count": 10,
   "metadata": {},
   "outputs": [],
   "source": [
    "def plotEvolutions(tEnd, plotInterval):\n",
    "    global popSize\n",
    "    global allPopulations\n",
    "    x = np.array([ np.full(popSize,i*plotInterval) for i in range(1,1+tEnd//plotInterval) ]).flatten()\n",
    "    y = np.array(allPopulations).flatten()\n",
    "    fig, ax = plt.subplots()\n",
    "    ax.set_xlabel('time', fontsize=13,fontweight=\"bold\")\n",
    "    ax.set_ylabel('Traitvalue (strategy)', fontsize=13,fontweight=\"bold\")    \n",
    "    plt.plot(x, y,\".\")\n",
    "    plt.show()"
   ]
  },
  {
   "cell_type": "code",
   "execution_count": 11,
   "metadata": {},
   "outputs": [],
   "source": [
    "def plotFractions(tEnd, plotInterval):\n",
    "    global popSize\n",
    "    global allPopulations\n",
    "    x = range(1,1+tEnd//plotInterval)\n",
    "    y = np.count_nonzero(np.array(allPopulations,dtype=object),1)/popSize\n",
    "    fig, ax = plt.subplots()\n",
    "    ax.set_xlabel('time', fontsize=13,fontweight=\"bold\")\n",
    "    ax.set_ylabel('Fraction of population at CarPark 1', fontsize=13,fontweight=\"bold\")    \n",
    "    plt.plot(x, y,\".\")\n",
    "    plt.show()"
   ]
  },
  {
   "cell_type": "code",
   "execution_count": 12,
   "metadata": {},
   "outputs": [],
   "source": [
    "def run(tEnd, plotInterval):\n",
    "    start=time.time() # should use process_time but only available in Python 3.3 and up \n",
    "    play(tEnd, plotInterval)\n",
    "    end=time.time() \n",
    "    print(end-start)\n",
    "    # plotEvolutions(tEnd, plotInterval)"
   ]
  },
  {
   "cell_type": "code",
   "execution_count": 13,
   "metadata": {},
   "outputs": [
    {
     "name": "stdout",
     "output_type": "stream",
     "text": [
      "0.49968695640563965\n"
     ]
    }
   ],
   "source": [
    "run(100,1)"
   ]
  },
  {
   "cell_type": "code",
   "execution_count": 14,
   "metadata": {},
   "outputs": [
    {
     "data": {
      "image/png": "[encoded data removed]",
      "text/plain": [
       "<Figure size 432x288 with 1 Axes>"
      ]
     },
     "metadata": {
      "needs_background": "light"
     },
     "output_type": "display_data"
    }
   ],
   "source": [
    "plotFractions(100,1)"
   ]
  },
  {
   "cell_type": "code",
   "execution_count": null,
   "metadata": {},
   "outputs": [],
   "source": []
  }
 ],
 "metadata": {
  "kernelspec": {
   "display_name": "Python 3 (ipykernel)",
   "language": "python",
   "name": "python3"
  },
  "language_info": {
   "codemirror_mode": {
    "name": "ipython",
    "version": 3
   },
   "file_extension": ".py",
   "mimetype": "text/x-python",
   "name": "python",
   "nbconvert_exporter": "python",
   "pygments_lexer": "ipython3",
   "version": "3.9.12"
  }
 },
 "nbformat": 4,
 "nbformat_minor": 1
}
