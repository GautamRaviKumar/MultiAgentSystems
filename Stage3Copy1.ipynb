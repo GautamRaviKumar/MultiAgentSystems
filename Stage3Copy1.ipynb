{
 "cells": [
  {
   "cell_type": "code",
   "execution_count": 1,
   "metadata": {
    "id": "f6oNYfPhAgq-"
   },
   "outputs": [],
   "source": [
    "import torch\n",
    "import copy"
   ]
  },
  {
   "cell_type": "code",
   "execution_count": 2,
   "metadata": {
    "id": "Dz-hPZbq4sli"
   },
   "outputs": [],
   "source": [
    "class DQN:\n",
    "    def __init__(self, state_size,action_size = 4):\n",
    "        l1 = state_size\n",
    "        l2 = 24\n",
    "        l3 = 24\n",
    "        l4 = action_size\n",
    "        self.model = torch.nn.Sequential(\n",
    "        torch.nn.Linear(l1, l2),\n",
    "        torch.nn.ReLU(),\n",
    "        torch.nn.Linear(l2, l3),\n",
    "        torch.nn.ReLU(),\n",
    "        torch.nn.Linear(l3,l4))\n",
    "\n",
    "        self.model2 = copy.deepcopy(self.model)\n",
    "        self.model2.load_state_dict(self.model.state_dict())\n",
    "        self.loss_fn = torch.nn.MSELoss()\n",
    "        self.learning_rate = 0.001\n",
    "        self.optimizer = torch.optim.Adam(self.model.parameters(), lr=self.learning_rate)\n",
    "\n",
    "# The function \"update_target\" copies the state of the prediction network to the target network. You need to use this in regular intervals.\n",
    "    def update_target(self):\n",
    "        self.model2.load_state_dict(self.model.state_dict())\n",
    "\n",
    "# The function \"get_qvals\" returns a numpy list of qvals for the state given by the argument based on the prediction network.\n",
    "    def get_qvals(self, state):\n",
    "        state = torch.from_numpy(state).float().unsqueeze(0)\n",
    "        q_values = self.model(state)\n",
    "        return q_values\n",
    "\n",
    "# The function \"get_maxQ\" returns the maximum q-value for the state given by the argument based on the target network.\n",
    "    def get_maxQ(self,state):\n",
    "        q_values = self.model(state)\n",
    "        return torch.max(q_values).item()\n",
    "\n",
    "# The function \"train_one_step_new\" performs a single training step.\n",
    "# It returns the current loss (only needed for debugging purposes).\n",
    "# Its parameters are three parallel lists: a minibatch of states, a minibatch of actions,\n",
    "# a minibatch of the corresponding TD targets and the discount factor.\n",
    "    def train_one_step(self, states, actions, targets):\n",
    "        targets_reply = []\n",
    "        state1_batch = torch.cat([torch.from_numpy(s).float() for s in states])\n",
    "        action_batch = torch.Tensor(actions)\n",
    "        Q1 = self.model(state1_batch)\n",
    "        X = Q1.gather(dim=1,index=action_batch.long().unsqueeze(dim=1)).squeeze()\n",
    "        Y = torch.tensor(targets).float()\n",
    "        loss = self.loss_fn(X, Y)\n",
    "        self.optimizer.zero_grad()\n",
    "        loss.backward()\n",
    "        self.optimizer.step()\n",
    "        return loss.item()"
   ]
  },
  {
   "cell_type": "code",
   "execution_count": null,
   "metadata": {},
   "outputs": [],
   "source": []
  }
 ],
 "metadata": {
  "colab": {
   "provenance": []
  },
  "kernelspec": {
   "display_name": "Python 3 (ipykernel)",
   "language": "python",
   "name": "python3"
  },
  "language_info": {
   "codemirror_mode": {
    "name": "ipython",
    "version": 3
   },
   "file_extension": ".py",
   "mimetype": "text/x-python",
   "name": "python",
   "nbconvert_exporter": "python",
   "pygments_lexer": "ipython3",
   "version": "3.9.12"
  }
 },
 "nbformat": 4,
 "nbformat_minor": 1
}
